{
 "cells": [
  {
   "cell_type": "code",
   "execution_count": 37,
   "metadata": {},
   "outputs": [],
   "source": [
    "import pyautogui as g\n",
    "import time\n",
    "import pytesseract\n",
    "   \n",
    "# por o mouse na ponta esquerda, no meio da barra branca\n",
    "def AjustarTela():\n",
    "    time.sleep(3)\n",
    "    g.dragTo(380, 115, 1)\n",
    "AjustarTela()\n"
   ]
  },
  {
   "cell_type": "code",
   "execution_count": 36,
   "metadata": {},
   "outputs": [
    {
     "data": {
      "text/plain": [
       "Point(x=1389, y=481)"
      ]
     },
     "execution_count": 36,
     "metadata": {},
     "output_type": "execute_result"
    }
   ],
   "source": [
    "g.position()"
   ]
  },
  {
   "cell_type": "code",
   "execution_count": 31,
   "metadata": {},
   "outputs": [
    {
     "name": "stdout",
     "output_type": "stream",
     "text": [
      "(120, 22, 14)\n"
     ]
    }
   ],
   "source": [
    "time.sleep(1)\n",
    "print(g.pixel(1220, 900))"
   ]
  },
  {
   "cell_type": "code",
   "execution_count": 39,
   "metadata": {},
   "outputs": [
    {
     "name": "stdout",
     "output_type": "stream",
     "text": [
      "200\n",
      "0\n"
     ]
    }
   ],
   "source": [
    "import pyautogui as g\n",
    "import time\n",
    "import pytesseract\n",
    "\n",
    "pytesseract.pytesseract.tesseract_cmd = 'C:\\Program Files\\Tesseract-OCR/tesseract'\n",
    "time.sleep(1)\n",
    "img = g.screenshot(region=(890,370, 160, 35))\n",
    "pote = pytesseract.image_to_string(img)\n",
    "for i in pote:\n",
    "    if i.isdigit() == False:\n",
    "        pote = pote.replace(i,\"\")\n",
    "pote = int(pote)\n",
    "print(pote)\n",
    "\n",
    "img = g.screenshot(region=(1220,915, 110, 35))\n",
    "img = img.convert('L')\n",
    "pagar = pytesseract.image_to_string(img)\n",
    "if len(pagar) > 0:\n",
    "    if pagar[0].isdigit():\n",
    "        pagar = int(pagar)\n",
    "    else:\n",
    "        pagar = 0\n",
    "else:\n",
    "    pagar = 0\n",
    "print(pagar)  \n",
    "g.write(str(pagar))"
   ]
  },
  {
   "cell_type": "code",
   "execution_count": null,
   "metadata": {},
   "outputs": [],
   "source": []
  }
 ],
 "metadata": {
  "kernelspec": {
   "display_name": "Python 3",
   "language": "python",
   "name": "python3"
  },
  "language_info": {
   "codemirror_mode": {
    "name": "ipython",
    "version": 3
   },
   "file_extension": ".py",
   "mimetype": "text/x-python",
   "name": "python",
   "nbconvert_exporter": "python",
   "pygments_lexer": "ipython3",
   "version": "3.7.3"
  }
 },
 "nbformat": 4,
 "nbformat_minor": 2
}

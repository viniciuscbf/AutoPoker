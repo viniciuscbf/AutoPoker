{
 "cells": [
  {
   "cell_type": "code",
   "execution_count": 3,
   "metadata": {},
   "outputs": [
    {
     "name": "stdout",
     "output_type": "stream",
     "text": [
      "33\n"
     ]
    }
   ],
   "source": [
    "import time\n",
    "pessoas = 0\n",
    "smallblind = 0\n",
    "bigblind = 0\n",
    "par = 0\n",
    "suited = 0\n",
    "sequencia = 0\n",
    "valorApostado = 0\n",
    "apostar = 0\n",
    "blind = 0\n",
    "    \n",
    "time.sleep(2)\n",
    "\n",
    "mao = ['9e', '2o']\n",
    "\n",
    "if mao[0][:-1] == mao[1][:-1]:\n",
    "    par = 1\n",
    "elif abs(int(mao[0][:-1]) - int(mao[1][:-1])) < 4:\n",
    "    sequencia = 4 - abs(int(mao[0][:-1]) - int(mao[1][:-1]))\n",
    "           \n",
    "if mao[0][-1] == mao[1][-1]:\n",
    "    suited = 1\n",
    "\n",
    "    \n",
    "handPower = par*55 + suited*14 + sequencia*5 + (int(mao[0][:-1]) + int(mao[1][:-1]))*3\n",
    "print(handPower)\n",
    "\n",
    "if handPower > 65:\n",
    "    print('apostar')\n",
    "\n",
    "if handPower > 100:\n",
    "    print('pagar até 3bb')\n",
    "    \n",
    "if handPower > 130:\n",
    "    print('pagar tudo')"
   ]
  },
  {
   "cell_type": "code",
   "execution_count": 50,
   "metadata": {},
   "outputs": [
    {
     "data": {
      "text/plain": [
       "Point(x=911, y=384)"
      ]
     },
     "execution_count": 50,
     "metadata": {},
     "output_type": "execute_result"
    }
   ],
   "source": [
    "g.position()"
   ]
  },
  {
   "cell_type": "code",
   "execution_count": null,
   "metadata": {},
   "outputs": [],
   "source": []
  }
 ],
 "metadata": {
  "kernelspec": {
   "display_name": "Python 3",
   "language": "python",
   "name": "python3"
  },
  "language_info": {
   "codemirror_mode": {
    "name": "ipython",
    "version": 3
   },
   "file_extension": ".py",
   "mimetype": "text/x-python",
   "name": "python",
   "nbconvert_exporter": "python",
   "pygments_lexer": "ipython3",
   "version": "3.7.3"
  }
 },
 "nbformat": 4,
 "nbformat_minor": 2
}

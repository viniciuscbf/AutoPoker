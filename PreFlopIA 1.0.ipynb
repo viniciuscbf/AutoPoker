{
 "cells": [
  {
   "cell_type": "code",
   "execution_count": 462,
   "metadata": {},
   "outputs": [
    {
     "name": "stdout",
     "output_type": "stream",
     "text": [
      "['00', '00', '00', '00', '00']\n",
      "['4o', '2p']\n",
      "4\n"
     ]
    }
   ],
   "source": [
    "### import pyautogui as g\n",
    "import time\n",
    "\n",
    "pessoas = 0\n",
    "smallblind = 0\n",
    "bigblind = 0\n",
    "par = 0\n",
    "suited = 0\n",
    "sequencia = 0\n",
    "valorApostado = 0\n",
    "apostar = 0\n",
    "blind = 0\n",
    "\n",
    "# por o mouse na ponta esquerda da interface na metade da barra branca\n",
    "def AjustarTela():\n",
    "    time.sleep(3)\n",
    "    g.dragTo(380, 115, 1)\n",
    "#AjustarTela()\n",
    "    \n",
    "time.sleep(2)\n",
    "\n",
    "mao = ['00', '00']\n",
    "mesa = ['00','00','00','00','00']\n",
    "for i in range(5):\n",
    "    for j in range(13):\n",
    "        arquivo = 'PokerStarsImages/cartas/' + str(j + 2) + '.jpg'\n",
    "        if g.locateOnScreen(arquivo, confidence = 0.75, region = (770+i*80,400,40,60), grayscale = True):\n",
    "            mesa[i] = str(j+2)\n",
    "            break\n",
    "            \n",
    "    if mesa[i] == '00':\n",
    "        break\n",
    "    \n",
    "    if g.locateOnScreen('PokerStarsImages/ouros.jpg', confidence = 0.9, region = (770+i*80,430,40,40)):\n",
    "        mesa[i] = mesa[i] + 'o'\n",
    "    elif g.locateOnScreen('PokerStarsImages/espadas.jpg', confidence = 0.9, region = (770+i*80,430,40,40)):\n",
    "        mesa[i] = mesa[i] + 'e'    \n",
    "    elif g.locateOnScreen('PokerStarsImages/copas.jpg', confidence = 0.9, region = (770+i*80,430,40,40)):\n",
    "        mesa[i] = mesa[i] + 'c'\n",
    "    elif g.locateOnScreen('PokerStarsImages/paus.jpg', confidence = 0.9, region = (770+i*80,430,40,40)):\n",
    "        mesa[i] = mesa[i] + 'p'\n",
    "\n",
    "\n",
    "\n",
    "for a in range(13):\n",
    "    arquivo = 'PokerStarsImages/cartas/' + str(a + 2) + '.jpg'\n",
    "    if g.locateOnScreen(arquivo, confidence = 0.75, region = (890,635,40,40), grayscale = True):\n",
    "        mao[0] = str(a+2)\n",
    "        \n",
    "for b in range(13):\n",
    "    arquivo = 'PokerStarsImages/cartas/' + str(b + 2) + '.jpg'\n",
    "    if g.locateOnScreen(arquivo, confidence = 0.75, region = (970,635,40,40), grayscale = True):\n",
    "        mao[1] = str(b+2)\n",
    "        \n",
    "if g.locateOnScreen('PokerStarsImages/ouros2.jpg', confidence = 0.9, region = (890,670,40,40), grayscale = True):\n",
    "    mao[0] = mao[0] + 'o'  \n",
    "elif g.locateOnScreen('PokerStarsImages/copas2.jpg', confidence = 0.9, region = (890,670,40,40), grayscale = True):\n",
    "    mao[0] = mao[0] + 'c'\n",
    "elif g.locateOnScreen('PokerStarsImages/espadas2.jpg', confidence = 0.9, region = (890,670,40,40), grayscale = True):\n",
    "    mao[0] = mao[0] + 'e'\n",
    "elif g.locateOnScreen('PokerStarsImages/paus2.jpg', confidence = 0.9, region = (890,60,40,40), grayscale = True):\n",
    "    mao[0] = mao[0] + 'p' \n",
    "    \n",
    "if g.locateOnScreen('PokerStarsImages/ouros3.jpg', confidence = 0.9, region = (970,670,40,40), grayscale = True):\n",
    "    mao[1] = mao[1] + 'o'  \n",
    "elif g.locateOnScreen('PokerStarsImages/copas3.jpg', confidence = 0.9, region = (970,670,40,40), grayscale = True):\n",
    "    mao[1] = mao[1] + 'c'\n",
    "elif g.locateOnScreen('PokerStarsImages/espadas3.jpg', confidence = 0.9, region = (970,680,40,40), grayscale = True):\n",
    "    mao[1] = mao[1] + 'e'\n",
    "elif g.locateOnScreen('PokerStarsImages/paus3.jpg', confidence = 0.9, region = (970,670,40,40), grayscale = True):\n",
    "    mao[1] = mao[1] + 'p'\n",
    "\n",
    "            \n",
    "print(mesa)\n",
    "print(mao)\n",
    "\n",
    "if g.pixelMatchesColor(485, 530, (163, 69, 67), tolerance = 10):\n",
    "    pessoas = pessoas + 1\n",
    "if g.pixelMatchesColor(510, 270, (163, 69, 67), tolerance = 10):\n",
    "    pessoas = pessoas + 1\n",
    "if g.pixelMatchesColor(935, 195, (163, 69, 67), tolerance = 10):\n",
    "    pessoas = pessoas + 1\n",
    "if g.pixelMatchesColor(1340, 270, (163, 69, 67), tolerance = 10):\n",
    "    pessoas = pessoas + 1\n",
    "if g.pixelMatchesColor(1380, 530, (163, 69, 67), tolerance = 10):\n",
    "    pessoas = pessoas + 1\n",
    "print(pessoas)\n",
    "#if mao[0][0] == mao[1][0]:\n",
    "#    par == 1\n",
    "#elif abs(mao[0][0] - mao[1][0]) < 4:\n",
    "#    sequencia = 1\n",
    "#    if abs(mao[0][0] - mao[1][0]) < 3:\n",
    "#        sequencia = 2\n",
    "#        if abs(mao[0][0] - mao[1][0]) < 2:\n",
    "#            sequencia = 3\n",
    "#if mao[0][1] == mao[1][1]:\n",
    "#    suited == 1\n",
    "    \n",
    "#handPower = par*15 + suited*4 + sequencia*2 + (mao[0][0] + mao[1][0])*2\n",
    "#print(handPower)"
   ]
  },
  {
   "cell_type": "code",
   "execution_count": 452,
   "metadata": {},
   "outputs": [
    {
     "data": {
      "text/plain": [
       "Point(x=936, y=192)"
      ]
     },
     "execution_count": 452,
     "metadata": {},
     "output_type": "execute_result"
    }
   ],
   "source": [
    "g.position()"
   ]
  },
  {
   "cell_type": "code",
   "execution_count": null,
   "metadata": {},
   "outputs": [],
   "source": []
  }
 ],
 "metadata": {
  "kernelspec": {
   "display_name": "Python 3",
   "language": "python",
   "name": "python3"
  },
  "language_info": {
   "codemirror_mode": {
    "name": "ipython",
    "version": 3
   },
   "file_extension": ".py",
   "mimetype": "text/x-python",
   "name": "python",
   "nbconvert_exporter": "python",
   "pygments_lexer": "ipython3",
   "version": "3.7.3"
  }
 },
 "nbformat": 4,
 "nbformat_minor": 2
}
